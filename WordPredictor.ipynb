{
  "cells": [
    {
      "cell_type": "markdown",
      "metadata": {
        "id": "view-in-github",
        "colab_type": "text"
      },
      "source": [
        "<a href=\"https://colab.research.google.com/github/silverhaffling01/All_in_one_investment_manager/blob/master/WordPredictor.ipynb\" target=\"_parent\"><img src=\"https://colab.research.google.com/assets/colab-badge.svg\" alt=\"Open In Colab\"/></a>"
      ]
    },
    {
      "cell_type": "code",
      "execution_count": null,
      "metadata": {
        "colab": {
          "base_uri": "https://localhost:8080/"
        },
        "id": "19US0TCXtjJc",
        "outputId": "948e4f45-149c-4bce-a652-94509b68204d"
      },
      "outputs": [
        {
          "name": "stdout",
          "output_type": "stream",
          "text": [
            "Drive already mounted at /content/drive; to attempt to forcibly remount, call drive.mount(\"/content/drive\", force_remount=True).\n"
          ]
        }
      ],
      "source": [
        "from google.colab import drive\n",
        "drive.mount('/content/drive')"
      ]
    },
    {
      "cell_type": "code",
      "execution_count": null,
      "metadata": {
        "id": "lhD8hysKAGkI"
      },
      "outputs": [],
      "source": [
        "f = open('/content/drive/MyDrive/Sherlock.txt', 'r')"
      ]
    },
    {
      "cell_type": "code",
      "execution_count": null,
      "metadata": {
        "id": "SRSMSIZlvYoL"
      },
      "outputs": [],
      "source": [
        "import tensorflow as tf\n",
        "from tensorflow.keras.preprocessing.text import Tokenizer"
      ]
    },
    {
      "cell_type": "code",
      "execution_count": null,
      "metadata": {
        "id": "DvSUw-qP8AKx"
      },
      "outputs": [],
      "source": [
        "tokenizer = Tokenizer()"
      ]
    },
    {
      "cell_type": "code",
      "execution_count": null,
      "metadata": {
        "id": "i8KPhN0ZAkBw"
      },
      "outputs": [],
      "source": [
        "text = f.read()\n",
        "text.strip\n",
        "f.close()"
      ]
    },
    {
      "cell_type": "code",
      "execution_count": null,
      "metadata": {
        "id": "NaTqiH1v8DT8"
      },
      "outputs": [],
      "source": [
        "tokenizer.fit_on_texts([text])"
      ]
    },
    {
      "cell_type": "code",
      "execution_count": null,
      "metadata": {
        "colab": {
          "base_uri": "https://localhost:8080/"
        },
        "id": "Yu7Edxcs8LFl",
        "outputId": "757d5a1b-d41f-46c9-86af-9a1a5f7fc189"
      },
      "outputs": [
        {
          "name": "stdout",
          "output_type": "stream",
          "text": [
            "1444\n"
          ]
        }
      ],
      "source": [
        "tokenizer.word_index\n",
        "words = len(tokenizer.word_index)\n",
        "print(words)"
      ]
    },
    {
      "cell_type": "code",
      "execution_count": null,
      "metadata": {
        "id": "3R6efnv8OadX"
      },
      "outputs": [],
      "source": [
        "input_sequences = []\n",
        "for sentence in text.split('\\n'):\n",
        "  tokenized_sentence = tokenizer.texts_to_sequences([sentence])[0]\n",
        "\n",
        "  for i in range(1, len(tokenized_sentence)):\n",
        "    input_sequences.append(tokenized_sentence[:i+1])\n",
        "\n"
      ]
    },
    {
      "cell_type": "code",
      "execution_count": null,
      "metadata": {
        "colab": {
          "base_uri": "https://localhost:8080/"
        },
        "id": "nYdr_626eg2P",
        "outputId": "e53b0291-c6d8-4474-ddb8-eda0db7857c4"
      },
      "outputs": [
        {
          "name": "stdout",
          "output_type": "stream",
          "text": [
            "17\n"
          ]
        }
      ],
      "source": [
        "max_length = max(len(x) for x in input_sequences)\n",
        "print(max_length)"
      ]
    },
    {
      "cell_type": "code",
      "execution_count": null,
      "metadata": {
        "id": "ySyRBOOk4Hz-"
      },
      "outputs": [],
      "source": [
        "from tensorflow.keras.preprocessing.sequence import pad_sequences\n",
        "padded_input_sequences = pad_sequences(input_sequences, maxlen = max_length, padding = 'pre')"
      ]
    },
    {
      "cell_type": "code",
      "execution_count": null,
      "metadata": {
        "id": "ATEa-o7S-b6A"
      },
      "outputs": [],
      "source": [
        "X = padded_input_sequences[:,:-1]"
      ]
    },
    {
      "cell_type": "code",
      "execution_count": null,
      "metadata": {
        "colab": {
          "background_save": true
        },
        "id": "VrK-uSKiCE5T"
      },
      "outputs": [],
      "source": [
        "y = padded_input_sequences[:,-1]"
      ]
    },
    {
      "cell_type": "code",
      "execution_count": null,
      "metadata": {
        "colab": {
          "base_uri": "https://localhost:8080/"
        },
        "id": "0pl0ihj7cjv6",
        "outputId": "c453ebed-f833-45a2-d76f-73a7723924be"
      },
      "outputs": [
        {
          "data": {
            "text/plain": [
              "(5534, 16)"
            ]
          },
          "execution_count": 15,
          "metadata": {},
          "output_type": "execute_result"
        }
      ],
      "source": [
        "X.shape"
      ]
    },
    {
      "cell_type": "code",
      "execution_count": null,
      "metadata": {
        "colab": {
          "base_uri": "https://localhost:8080/"
        },
        "id": "sO7UU2X1csPI",
        "outputId": "b032aee2-c830-4fb5-d148-e712e78b093c"
      },
      "outputs": [
        {
          "data": {
            "text/plain": [
              "(5534,)"
            ]
          },
          "execution_count": 16,
          "metadata": {},
          "output_type": "execute_result"
        }
      ],
      "source": [
        "y.shape"
      ]
    },
    {
      "cell_type": "code",
      "execution_count": null,
      "metadata": {
        "id": "NaIuabjlCYvp"
      },
      "outputs": [],
      "source": [
        "from tensorflow.keras.utils import to_categorical\n",
        "y = to_categorical(y, num_classes = words + 1)"
      ]
    },
    {
      "cell_type": "code",
      "execution_count": null,
      "metadata": {
        "colab": {
          "base_uri": "https://localhost:8080/"
        },
        "id": "YWCvi4jncvqF",
        "outputId": "9c90bb93-eeda-4324-d6b6-5d048af43ae4"
      },
      "outputs": [
        {
          "data": {
            "text/plain": [
              "(5534, 1445)"
            ]
          },
          "execution_count": 18,
          "metadata": {},
          "output_type": "execute_result"
        }
      ],
      "source": [
        "y.shape"
      ]
    },
    {
      "cell_type": "code",
      "execution_count": null,
      "metadata": {
        "colab": {
          "background_save": true
        },
        "id": "Pr4fEuE9N0Mw"
      },
      "outputs": [],
      "source": [
        "from tensorflow.keras.models import Sequential\n",
        "from tensorflow.keras.layers import Embedding, LSTM, Dense\n",
        "import numpy as np"
      ]
    },
    {
      "cell_type": "code",
      "execution_count": null,
      "metadata": {
        "colab": {
          "background_save": true
        },
        "id": "rsX5VLBvVz5G"
      },
      "outputs": [],
      "source": [
        "model = Sequential()\n",
        "model.add(Embedding(words+1, 100, input_length = 16))\n",
        "model.add(LSTM(200))\n",
        "model.add(Dense(words+1, activation = 'softmax'))"
      ]
    },
    {
      "cell_type": "code",
      "execution_count": null,
      "metadata": {
        "id": "myAZl2X6WPSS"
      },
      "outputs": [],
      "source": [
        "model.compile(loss='categorical_crossentropy', optimizer='adam', metrics=['accuracy'])"
      ]
    },
    {
      "cell_type": "code",
      "execution_count": null,
      "metadata": {
        "colab": {
          "base_uri": "https://localhost:8080/"
        },
        "id": "47oGV0cbkNIa",
        "outputId": "019e2174-0076-4381-d390-903ffd03647e"
      },
      "outputs": [
        {
          "name": "stdout",
          "output_type": "stream",
          "text": [
            "Model: \"sequential_1\"\n",
            "_________________________________________________________________\n",
            " Layer (type)                Output Shape              Param #   \n",
            "=================================================================\n",
            " embedding_1 (Embedding)     (None, 16, 100)           144500    \n",
            "                                                                 \n",
            " lstm_1 (LSTM)               (None, 200)               240800    \n",
            "                                                                 \n",
            " dense_1 (Dense)             (None, 1445)              290445    \n",
            "                                                                 \n",
            "=================================================================\n",
            "Total params: 675745 (2.58 MB)\n",
            "Trainable params: 675745 (2.58 MB)\n",
            "Non-trainable params: 0 (0.00 Byte)\n",
            "_________________________________________________________________\n"
          ]
        }
      ],
      "source": [
        "model.summary()"
      ]
    },
    {
      "cell_type": "code",
      "execution_count": null,
      "metadata": {
        "colab": {
          "background_save": true,
          "base_uri": "https://localhost:8080/"
        },
        "id": "YBwt_ZBjbGBj",
        "outputId": "5c58c017-d4a8-4d60-d602-05b09e7db3eb"
      },
      "outputs": [
        {
          "name": "stdout",
          "output_type": "stream",
          "text": [
            "Epoch 1/100\n",
            "173/173 [==============================] - 6s 27ms/step - loss: 6.3573 - accuracy: 0.0405\n",
            "Epoch 2/100\n",
            "173/173 [==============================] - 6s 32ms/step - loss: 5.8785 - accuracy: 0.0452\n",
            "Epoch 3/100\n",
            "173/173 [==============================] - 5s 28ms/step - loss: 5.7524 - accuracy: 0.0524\n",
            "Epoch 4/100\n",
            "173/173 [==============================] - 5s 32ms/step - loss: 5.6248 - accuracy: 0.0584\n",
            "Epoch 5/100\n",
            "173/173 [==============================] - 5s 27ms/step - loss: 5.4750 - accuracy: 0.0674\n",
            "Epoch 6/100\n",
            "173/173 [==============================] - 5s 27ms/step - loss: 5.2807 - accuracy: 0.0911\n",
            "Epoch 7/100\n",
            "173/173 [==============================] - 5s 31ms/step - loss: 5.0760 - accuracy: 0.1075\n",
            "Epoch 8/100\n",
            "173/173 [==============================] - 5s 27ms/step - loss: 4.8634 - accuracy: 0.1151\n",
            "Epoch 9/100\n",
            "173/173 [==============================] - 5s 32ms/step - loss: 4.6501 - accuracy: 0.1305\n",
            "Epoch 10/100\n",
            "173/173 [==============================] - 5s 27ms/step - loss: 4.4383 - accuracy: 0.1460\n",
            "Epoch 11/100\n",
            "173/173 [==============================] - 5s 27ms/step - loss: 4.2251 - accuracy: 0.1594\n",
            "Epoch 12/100\n",
            "173/173 [==============================] - 5s 32ms/step - loss: 4.0076 - accuracy: 0.1776\n",
            "Epoch 13/100\n",
            "173/173 [==============================] - 5s 27ms/step - loss: 3.7877 - accuracy: 0.2029\n",
            "Epoch 14/100\n",
            "173/173 [==============================] - 6s 32ms/step - loss: 3.5729 - accuracy: 0.2322\n",
            "Epoch 15/100\n",
            "173/173 [==============================] - 5s 27ms/step - loss: 3.3564 - accuracy: 0.2685\n",
            "Epoch 16/100\n",
            "173/173 [==============================] - 5s 27ms/step - loss: 3.1409 - accuracy: 0.3103\n",
            "Epoch 17/100\n",
            "173/173 [==============================] - 6s 32ms/step - loss: 2.9328 - accuracy: 0.3605\n",
            "Epoch 18/100\n",
            "173/173 [==============================] - 5s 27ms/step - loss: 2.7278 - accuracy: 0.3992\n",
            "Epoch 19/100\n",
            "173/173 [==============================] - 5s 32ms/step - loss: 2.5292 - accuracy: 0.4451\n",
            "Epoch 20/100\n",
            "173/173 [==============================] - 5s 27ms/step - loss: 2.3340 - accuracy: 0.4946\n",
            "Epoch 21/100\n",
            "173/173 [==============================] - 5s 27ms/step - loss: 2.1608 - accuracy: 0.5369\n",
            "Epoch 22/100\n",
            "173/173 [==============================] - 5s 31ms/step - loss: 1.9891 - accuracy: 0.5842\n",
            "Epoch 23/100\n",
            "173/173 [==============================] - 5s 27ms/step - loss: 1.8300 - accuracy: 0.6272\n",
            "Epoch 24/100\n",
            "173/173 [==============================] - 5s 31ms/step - loss: 1.6817 - accuracy: 0.6670\n",
            "Epoch 25/100\n",
            "173/173 [==============================] - 5s 27ms/step - loss: 1.5454 - accuracy: 0.6968\n",
            "Epoch 26/100\n",
            "173/173 [==============================] - 5s 28ms/step - loss: 1.4158 - accuracy: 0.7268\n",
            "Epoch 27/100\n",
            "173/173 [==============================] - 5s 30ms/step - loss: 1.2979 - accuracy: 0.7550\n",
            "Epoch 28/100\n",
            "173/173 [==============================] - 5s 26ms/step - loss: 1.1868 - accuracy: 0.7814\n",
            "Epoch 29/100\n",
            "173/173 [==============================] - 5s 32ms/step - loss: 1.0867 - accuracy: 0.8047\n",
            "Epoch 30/100\n",
            "173/173 [==============================] - 5s 27ms/step - loss: 0.9948 - accuracy: 0.8216\n",
            "Epoch 31/100\n",
            "173/173 [==============================] - 5s 27ms/step - loss: 0.9107 - accuracy: 0.8397\n",
            "Epoch 32/100\n",
            "173/173 [==============================] - 5s 31ms/step - loss: 0.8332 - accuracy: 0.8571\n",
            "Epoch 33/100\n",
            "173/173 [==============================] - 5s 26ms/step - loss: 0.7637 - accuracy: 0.8684\n",
            "Epoch 34/100\n",
            "173/173 [==============================] - 5s 32ms/step - loss: 0.6997 - accuracy: 0.8815\n",
            "Epoch 35/100\n",
            "173/173 [==============================] - 5s 26ms/step - loss: 0.6428 - accuracy: 0.8907\n",
            "Epoch 36/100\n",
            "173/173 [==============================] - 5s 27ms/step - loss: 0.5881 - accuracy: 0.9022\n",
            "Epoch 37/100\n",
            "173/173 [==============================] - 5s 31ms/step - loss: 0.5441 - accuracy: 0.9102\n",
            "Epoch 38/100\n",
            "173/173 [==============================] - 5s 27ms/step - loss: 0.5012 - accuracy: 0.9145\n",
            "Epoch 39/100\n",
            "173/173 [==============================] - 6s 32ms/step - loss: 0.4630 - accuracy: 0.9214\n",
            "Epoch 40/100\n",
            "173/173 [==============================] - 5s 26ms/step - loss: 0.4310 - accuracy: 0.9232\n",
            "Epoch 41/100\n",
            "173/173 [==============================] - 5s 27ms/step - loss: 0.3987 - accuracy: 0.9266\n",
            "Epoch 42/100\n",
            "173/173 [==============================] - 5s 30ms/step - loss: 0.3744 - accuracy: 0.9279\n",
            "Epoch 43/100\n",
            "173/173 [==============================] - 5s 26ms/step - loss: 0.3478 - accuracy: 0.9326\n",
            "Epoch 44/100\n",
            "173/173 [==============================] - 5s 31ms/step - loss: 0.3265 - accuracy: 0.9339\n",
            "Epoch 45/100\n",
            "173/173 [==============================] - 5s 26ms/step - loss: 0.3084 - accuracy: 0.9346\n",
            "Epoch 46/100\n",
            "173/173 [==============================] - 5s 27ms/step - loss: 0.2898 - accuracy: 0.9377\n",
            "Epoch 47/100\n",
            "173/173 [==============================] - 5s 31ms/step - loss: 0.2774 - accuracy: 0.9382\n",
            "Epoch 48/100\n",
            "173/173 [==============================] - 5s 27ms/step - loss: 0.2647 - accuracy: 0.9382\n",
            "Epoch 49/100\n",
            "173/173 [==============================] - 5s 31ms/step - loss: 0.2557 - accuracy: 0.9387\n",
            "Epoch 50/100\n",
            "173/173 [==============================] - 5s 26ms/step - loss: 0.2440 - accuracy: 0.9373\n",
            "Epoch 51/100\n",
            "173/173 [==============================] - 5s 27ms/step - loss: 0.2350 - accuracy: 0.9396\n",
            "Epoch 52/100\n",
            "173/173 [==============================] - 5s 31ms/step - loss: 0.2263 - accuracy: 0.9382\n",
            "Epoch 53/100\n",
            "173/173 [==============================] - 5s 26ms/step - loss: 0.2199 - accuracy: 0.9373\n",
            "Epoch 54/100\n",
            "173/173 [==============================] - 5s 31ms/step - loss: 0.2125 - accuracy: 0.9387\n",
            "Epoch 55/100\n",
            "173/173 [==============================] - 4s 26ms/step - loss: 0.2061 - accuracy: 0.9393\n",
            "Epoch 56/100\n",
            "173/173 [==============================] - 5s 26ms/step - loss: 0.2037 - accuracy: 0.9384\n",
            "Epoch 57/100\n",
            "173/173 [==============================] - 5s 31ms/step - loss: 0.1994 - accuracy: 0.9378\n",
            "Epoch 58/100\n",
            "173/173 [==============================] - 5s 26ms/step - loss: 0.1939 - accuracy: 0.9389\n",
            "Epoch 59/100\n",
            "173/173 [==============================] - 5s 31ms/step - loss: 0.1922 - accuracy: 0.9387\n",
            "Epoch 60/100\n",
            "173/173 [==============================] - 5s 26ms/step - loss: 0.1878 - accuracy: 0.9395\n",
            "Epoch 61/100\n",
            "173/173 [==============================] - 5s 26ms/step - loss: 0.1842 - accuracy: 0.9393\n",
            "Epoch 62/100\n",
            "173/173 [==============================] - 6s 35ms/step - loss: 0.1829 - accuracy: 0.9360\n",
            "Epoch 63/100\n",
            "173/173 [==============================] - 5s 31ms/step - loss: 0.1791 - accuracy: 0.9382\n",
            "Epoch 64/100\n",
            "173/173 [==============================] - 5s 31ms/step - loss: 0.1770 - accuracy: 0.9384\n",
            "Epoch 65/100\n",
            "173/173 [==============================] - 5s 27ms/step - loss: 0.1745 - accuracy: 0.9387\n",
            "Epoch 66/100\n",
            "173/173 [==============================] - 5s 31ms/step - loss: 0.1731 - accuracy: 0.9373\n",
            "Epoch 67/100\n",
            "173/173 [==============================] - 5s 27ms/step - loss: 0.1722 - accuracy: 0.9382\n",
            "Epoch 68/100\n",
            "173/173 [==============================] - 5s 27ms/step - loss: 0.1707 - accuracy: 0.9369\n",
            "Epoch 69/100\n",
            "173/173 [==============================] - 5s 32ms/step - loss: 0.1700 - accuracy: 0.9382\n",
            "Epoch 70/100\n",
            "173/173 [==============================] - 5s 27ms/step - loss: 0.1697 - accuracy: 0.9393\n",
            "Epoch 71/100\n",
            "173/173 [==============================] - 5s 31ms/step - loss: 0.1716 - accuracy: 0.9357\n",
            "Epoch 72/100\n",
            "173/173 [==============================] - 5s 27ms/step - loss: 0.1799 - accuracy: 0.9355\n",
            "Epoch 73/100\n",
            "173/173 [==============================] - 5s 27ms/step - loss: 0.2012 - accuracy: 0.9340\n",
            "Epoch 74/100\n",
            "173/173 [==============================] - 6s 32ms/step - loss: 0.1766 - accuracy: 0.9364\n",
            "Epoch 75/100\n",
            "173/173 [==============================] - 5s 27ms/step - loss: 0.1624 - accuracy: 0.9382\n",
            "Epoch 76/100\n",
            "173/173 [==============================] - 6s 32ms/step - loss: 0.1591 - accuracy: 0.9378\n",
            "Epoch 77/100\n",
            "173/173 [==============================] - 5s 27ms/step - loss: 0.1602 - accuracy: 0.9369\n",
            "Epoch 78/100\n",
            "173/173 [==============================] - 5s 27ms/step - loss: 0.1593 - accuracy: 0.9362\n",
            "Epoch 79/100\n",
            "173/173 [==============================] - 6s 32ms/step - loss: 0.1583 - accuracy: 0.9366\n",
            "Epoch 80/100\n",
            "173/173 [==============================] - 5s 28ms/step - loss: 0.1562 - accuracy: 0.9371\n",
            "Epoch 81/100\n",
            "173/173 [==============================] - 6s 32ms/step - loss: 0.1575 - accuracy: 0.9378\n",
            "Epoch 82/100\n",
            "173/173 [==============================] - 5s 27ms/step - loss: 0.1575 - accuracy: 0.9364\n",
            "Epoch 83/100\n",
            "173/173 [==============================] - 5s 28ms/step - loss: 0.1550 - accuracy: 0.9382\n",
            "Epoch 84/100\n",
            "173/173 [==============================] - 5s 31ms/step - loss: 0.1547 - accuracy: 0.9382\n",
            "Epoch 85/100\n",
            "173/173 [==============================] - 5s 27ms/step - loss: 0.1541 - accuracy: 0.9371\n",
            "Epoch 86/100\n",
            "173/173 [==============================] - 6s 32ms/step - loss: 0.1539 - accuracy: 0.9384\n",
            "Epoch 87/100\n",
            "173/173 [==============================] - 5s 28ms/step - loss: 0.1527 - accuracy: 0.9382\n",
            "Epoch 88/100\n",
            "173/173 [==============================] - 5s 30ms/step - loss: 0.1528 - accuracy: 0.9378\n",
            "Epoch 89/100\n",
            "173/173 [==============================] - 5s 29ms/step - loss: 0.1517 - accuracy: 0.9364\n",
            "Epoch 90/100\n",
            "173/173 [==============================] - 5s 27ms/step - loss: 0.1513 - accuracy: 0.9371\n",
            "Epoch 91/100\n",
            "173/173 [==============================] - 5s 32ms/step - loss: 0.1510 - accuracy: 0.9389\n",
            "Epoch 92/100\n",
            "173/173 [==============================] - 5s 27ms/step - loss: 0.1503 - accuracy: 0.9368\n",
            "Epoch 93/100\n",
            "173/173 [==============================] - 6s 33ms/step - loss: 0.1505 - accuracy: 0.9398\n",
            "Epoch 94/100\n",
            "173/173 [==============================] - 7s 40ms/step - loss: 0.1505 - accuracy: 0.9368\n",
            "Epoch 95/100\n",
            "173/173 [==============================] - 5s 29ms/step - loss: 0.1503 - accuracy: 0.9368\n",
            "Epoch 96/100\n",
            "173/173 [==============================] - 5s 30ms/step - loss: 0.1498 - accuracy: 0.9359\n",
            "Epoch 97/100\n",
            "173/173 [==============================] - 5s 28ms/step - loss: 0.1496 - accuracy: 0.9400\n",
            "Epoch 98/100\n",
            "173/173 [==============================] - 6s 33ms/step - loss: 0.1492 - accuracy: 0.9377\n",
            "Epoch 99/100\n",
            "173/173 [==============================] - 5s 28ms/step - loss: 0.1486 - accuracy: 0.9384\n",
            "Epoch 100/100\n",
            "173/173 [==============================] - 5s 32ms/step - loss: 0.1473 - accuracy: 0.9377\n"
          ]
        },
        {
          "data": {
            "text/plain": [
              "<keras.src.callbacks.History at 0x78cd984b93c0>"
            ]
          },
          "execution_count": 26,
          "metadata": {},
          "output_type": "execute_result"
        }
      ],
      "source": [
        "model.fit(X,y,epochs=100)"
      ]
    },
    {
      "cell_type": "code",
      "execution_count": null,
      "metadata": {
        "colab": {
          "base_uri": "https://localhost:8080/"
        },
        "id": "1RxnozXWDJgy",
        "outputId": "13314bec-de47-46e1-c726-29c682d6c8ee"
      },
      "outputs": [
        {
          "name": "stdout",
          "output_type": "stream",
          "text": [
            "1/1 [==============================] - 0s 23ms/step\n",
            "Sherlock holmes\n",
            "1/1 [==============================] - 0s 35ms/step\n",
            "Sherlock holmes shrugged\n",
            "1/1 [==============================] - 0s 22ms/step\n",
            "Sherlock holmes shrugged his\n",
            "1/1 [==============================] - 0s 24ms/step\n",
            "Sherlock holmes shrugged his shoulders\n",
            "1/1 [==============================] - 0s 25ms/step\n",
            "Sherlock holmes shrugged his shoulders to\n",
            "1/1 [==============================] - 0s 25ms/step\n",
            "Sherlock holmes shrugged his shoulders to be\n",
            "1/1 [==============================] - 0s 23ms/step\n",
            "Sherlock holmes shrugged his shoulders to be a\n",
            "1/1 [==============================] - 0s 36ms/step\n",
            "Sherlock holmes shrugged his shoulders to be a society\n",
            "1/1 [==============================] - 0s 26ms/step\n",
            "Sherlock holmes shrugged his shoulders to be a society that\n",
            "1/1 [==============================] - 0s 24ms/step\n",
            "Sherlock holmes shrugged his shoulders to be a society that it\n"
          ]
        }
      ],
      "source": [
        "import time\n",
        "text = \"Sherlock\"\n",
        "\n",
        "for i in range(10):\n",
        "  # Tokenize.\n",
        "  token_text = tokenizer.texts_to_sequences([text])[0]\n",
        "  # Padding.\n",
        "  padded_token_text = pad_sequences([token_text], maxlen=16, padding='pre')\n",
        "  # Predict.\n",
        "  pos = np.argmax(model.predict(padded_token_text))\n",
        "\n",
        "  for word,index in tokenizer.word_index.items():\n",
        "    if index == pos:\n",
        "      text = text + \" \" + word\n",
        "      print(text)\n",
        "      time.sleep(2)"
      ]
    }
  ],
  "metadata": {
    "colab": {
      "provenance": [],
      "authorship_tag": "ABX9TyMVdAVr7DiKWma3RNNFMziZ",
      "include_colab_link": true
    },
    "kernelspec": {
      "display_name": "Python 3",
      "name": "python3"
    },
    "language_info": {
      "name": "python"
    }
  },
  "nbformat": 4,
  "nbformat_minor": 0
}